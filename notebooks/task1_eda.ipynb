{
 "cells": [
  {
   "cell_type": "markdown",
   "metadata": {},
   "source": [
    "# Financial News and Stock Price Integration Dataset - EDA\n",
    "This notebook performs comprehensive Exploratory Data Analysis (EDA) on the FNSPID dataset.\n",
    "## Dataset Description\n",
    "- **headline**: Article release headline/title\n",
    "- **url**: Direct link to the full news article\n",
    "- **publisher**: Author/creator of article\n",
    "- **date**: Publication date and time (UTC-4 timezone)\n",
    "- **stock**: Stock ticker symbol"
   ]
  },
  {
   "cell_type": "code",
   "execution_count": 1,
   "metadata": {},
   "outputs": [
    {
     "name": "stdout",
     "output_type": "stream",
     "text": [
      "Libraries imported successfully!\n"
     ]
    }
   ],
   "source": [
    "# Import required libraries\n",
    "import sys\n",
    "import os\n",
    "sys.path.append('../src')\n",
    "import pandas as pd\n",
    "import numpy as np\n",
    "import matplotlib.pyplot as plt\n",
    "import seaborn as sns\n",
    "from datetime import datetime\n",
    "import warnings\n",
    "# Import custom modules\n",
    "from data_loader import FinancialDataLoader\n",
    "from eda_analyzer import FinancialEDAAnalyzer\n",
    "from utils import save_analysis_results, format_large_numbers, get_data_quality_report\n",
    "\n",
    "# Configure plotting\n",
    "plt.style.use('seaborn-v0_8')\n",
    "sns.set_palette(\"husl\")\n",
    "warnings.filterwarnings('ignore')\n",
    "\n",
    "# Set display options\n",
    "pd.set_option('display.max_columns', None)\n",
    "pd.set_option('display.max_rows', 100)\n",
    "print(\"Libraries imported successfully!\")"
   ]
  },
  {
   "cell_type": "markdown",
   "metadata": {},
   "source": [
    "## 1. Data Loading and Initial Exploration"
   ]
  },
  {
   "cell_type": "code",
   "execution_count": 2,
   "metadata": {},
   "outputs": [
    {
     "name": "stderr",
     "output_type": "stream",
     "text": [
      "INFO:data_loader:Loading data from ../data/raw_analyst_ratings.csv\n"
     ]
    },
    {
     "name": "stdout",
     "output_type": "stream",
     "text": [
      "Loading dataset...\n"
     ]
    },
    {
     "name": "stderr",
     "output_type": "stream",
     "text": [
      "INFO:data_loader:Data loaded successfully. Shape: (1407328, 6)\n"
     ]
    },
    {
     "name": "stdout",
     "output_type": "stream",
     "text": [
      "Dataset loaded successfully! Shape: (1407328, 6)\n"
     ]
    }
   ],
   "source": [
    "# Initialize data loader\n",
    "data_path = \"../data/raw_analyst_ratings.csv\"\n",
    "loader = FinancialDataLoader(data_path)\n",
    "\n",
    "# Load the dataset\n",
    "print(\"Loading dataset...\")\n",
    "df = loader.load_data()\n",
    "print(f\"Dataset loaded successfully! Shape: {df.shape}\")"
   ]
  },
  {
   "cell_type": "code",
   "execution_count": 3,
   "metadata": {},
   "outputs": [
    {
     "name": "stdout",
     "output_type": "stream",
     "text": [
      "Dataset Information:\n",
      "Shape: (1407328, 6)\n",
      "Columns: ['Unnamed: 0', 'headline', 'url', 'publisher', 'date', 'stock']\n",
      "Memory Usage: 634.55 MB\n",
      "Data Types:\n",
      "  Unnamed: 0: int64\n",
      "  headline: object\n",
      "  url: object\n",
      "  publisher: object\n",
      "  date: object\n",
      "  stock: object\n"
     ]
    }
   ],
   "source": [
    "# Get basic dataset information\n",
    "data_info = loader.get_data_info()\n",
    "print(\"Dataset Information:\")\n",
    "print(f\"Shape: {data_info['shape']}\")\n",
    "print(f\"Columns: {data_info['columns']}\")\n",
    "print(f\"Memory Usage: {data_info['memory_usage'] / (1024**2):.2f} MB\")\n",
    "print(\"Data Types:\")\n",
    "for col, dtype in data_info['dtypes'].items():\n",
    "    print(f\"  {col}: {dtype}\")"
   ]
  },
  {
   "cell_type": "code",
   "execution_count": 4,
   "metadata": {},
   "outputs": [
    {
     "name": "stdout",
     "output_type": "stream",
     "text": [
      "Sample Data:\n"
     ]
    },
    {
     "data": {
      "text/html": [
       "<div>\n",
       "<style scoped>\n",
       "    .dataframe tbody tr th:only-of-type {\n",
       "        vertical-align: middle;\n",
       "    }\n",
       "\n",
       "    .dataframe tbody tr th {\n",
       "        vertical-align: top;\n",
       "    }\n",
       "\n",
       "    .dataframe thead th {\n",
       "        text-align: right;\n",
       "    }\n",
       "</style>\n",
       "<table border=\"1\" class=\"dataframe\">\n",
       "  <thead>\n",
       "    <tr style=\"text-align: right;\">\n",
       "      <th></th>\n",
       "      <th>Unnamed: 0</th>\n",
       "      <th>headline</th>\n",
       "      <th>url</th>\n",
       "      <th>publisher</th>\n",
       "      <th>date</th>\n",
       "      <th>stock</th>\n",
       "    </tr>\n",
       "  </thead>\n",
       "  <tbody>\n",
       "    <tr>\n",
       "      <th>0</th>\n",
       "      <td>0</td>\n",
       "      <td>Stocks That Hit 52-Week Highs On Friday</td>\n",
       "      <td>https://www.benzinga.com/news/20/06/16190091/s...</td>\n",
       "      <td>Benzinga Insights</td>\n",
       "      <td>2020-06-05 10:30:54-04:00</td>\n",
       "      <td>A</td>\n",
       "    </tr>\n",
       "    <tr>\n",
       "      <th>1</th>\n",
       "      <td>1</td>\n",
       "      <td>Stocks That Hit 52-Week Highs On Wednesday</td>\n",
       "      <td>https://www.benzinga.com/news/20/06/16170189/s...</td>\n",
       "      <td>Benzinga Insights</td>\n",
       "      <td>2020-06-03 10:45:20-04:00</td>\n",
       "      <td>A</td>\n",
       "    </tr>\n",
       "    <tr>\n",
       "      <th>2</th>\n",
       "      <td>2</td>\n",
       "      <td>71 Biggest Movers From Friday</td>\n",
       "      <td>https://www.benzinga.com/news/20/05/16103463/7...</td>\n",
       "      <td>Lisa Levin</td>\n",
       "      <td>2020-05-26 04:30:07-04:00</td>\n",
       "      <td>A</td>\n",
       "    </tr>\n",
       "    <tr>\n",
       "      <th>3</th>\n",
       "      <td>3</td>\n",
       "      <td>46 Stocks Moving In Friday's Mid-Day Session</td>\n",
       "      <td>https://www.benzinga.com/news/20/05/16095921/4...</td>\n",
       "      <td>Lisa Levin</td>\n",
       "      <td>2020-05-22 12:45:06-04:00</td>\n",
       "      <td>A</td>\n",
       "    </tr>\n",
       "    <tr>\n",
       "      <th>4</th>\n",
       "      <td>4</td>\n",
       "      <td>B of A Securities Maintains Neutral on Agilent...</td>\n",
       "      <td>https://www.benzinga.com/news/20/05/16095304/b...</td>\n",
       "      <td>Vick Meyer</td>\n",
       "      <td>2020-05-22 11:38:59-04:00</td>\n",
       "      <td>A</td>\n",
       "    </tr>\n",
       "  </tbody>\n",
       "</table>\n",
       "</div>"
      ],
      "text/plain": [
       "   Unnamed: 0                                           headline  \\\n",
       "0           0            Stocks That Hit 52-Week Highs On Friday   \n",
       "1           1         Stocks That Hit 52-Week Highs On Wednesday   \n",
       "2           2                      71 Biggest Movers From Friday   \n",
       "3           3       46 Stocks Moving In Friday's Mid-Day Session   \n",
       "4           4  B of A Securities Maintains Neutral on Agilent...   \n",
       "\n",
       "                                                 url          publisher  \\\n",
       "0  https://www.benzinga.com/news/20/06/16190091/s...  Benzinga Insights   \n",
       "1  https://www.benzinga.com/news/20/06/16170189/s...  Benzinga Insights   \n",
       "2  https://www.benzinga.com/news/20/05/16103463/7...         Lisa Levin   \n",
       "3  https://www.benzinga.com/news/20/05/16095921/4...         Lisa Levin   \n",
       "4  https://www.benzinga.com/news/20/05/16095304/b...         Vick Meyer   \n",
       "\n",
       "                        date stock  \n",
       "0  2020-06-05 10:30:54-04:00     A  \n",
       "1  2020-06-03 10:45:20-04:00     A  \n",
       "2  2020-05-26 04:30:07-04:00     A  \n",
       "3  2020-05-22 12:45:06-04:00     A  \n",
       "4  2020-05-22 11:38:59-04:00     A  "
      ]
     },
     "metadata": {},
     "output_type": "display_data"
    }
   ],
   "source": [
    "# Display sample data\n",
    "print(\"Sample Data:\")\n",
    "sample_data = loader.get_sample_data(5)\n",
    "display(sample_data)"
   ]
  },
  {
   "cell_type": "markdown",
   "metadata": {},
   "source": [
    "## 2. Data Quality Assessment"
   ]
  },
  {
   "cell_type": "code",
   "execution_count": 5,
   "metadata": {},
   "outputs": [
    {
     "name": "stdout",
     "output_type": "stream",
     "text": [
      "Data Quality Report:\n",
      "Total Rows: 1.4M\n",
      "Total Columns: 6\n",
      "Duplicate Rows: 0\n",
      "Memory Usage: 635.59 MB\n",
      "Missing Values Analysis:\n",
      "  Unnamed: 0: No missing values\n",
      "  headline: No missing values\n",
      "  url: No missing values\n",
      "  publisher: No missing values\n",
      "  date: No missing values\n",
      "  stock: No missing values\n"
     ]
    }
   ],
   "source": [
    "# Generate data quality report\n",
    "quality_report = get_data_quality_report(df)\n",
    "print(\"Data Quality Report:\")\n",
    "print(f\"Total Rows: {format_large_numbers(quality_report['total_rows'])}\")\n",
    "print(f\"Total Columns: {quality_report['total_columns']}\")\n",
    "print(f\"Duplicate Rows: {format_large_numbers(quality_report['duplicate_rows'])}\")\n",
    "print(f\"Memory Usage: {quality_report['memory_usage_mb']:.2f} MB\")\n",
    "print(\"Missing Values Analysis:\")\n",
    "for col, missing_info in quality_report['missing_values'].items():\n",
    "    if missing_info['count'] > 0:\n",
    "        print(f\"  {col}: {format_large_numbers(missing_info['count'])} ({missing_info['percentage']}%)\")\n",
    "    else:\n",
    "        print(f\"  {col}: No missing values\")"
   ]
  },
  {
   "cell_type": "markdown",
   "metadata": {},
   "source": [
    "## 3. Initialize EDA Analyzer and Perform Analysis"
   ]
  },
  {
   "cell_type": "code",
   "execution_count": 6,
   "metadata": {},
   "outputs": [
    {
     "name": "stderr",
     "output_type": "stream",
     "text": [
      "INFO:eda_analyzer:Data preparation completed successfully\n"
     ]
    },
    {
     "name": "stdout",
     "output_type": "stream",
     "text": [
      "EDA Analyzer initialized and data prepared successfully!\n"
     ]
    }
   ],
   "source": [
    "# Initialize EDA analyzer\n",
    "analyzer = FinancialEDAAnalyzer(df)\n",
    "print(\"EDA Analyzer initialized and data prepared successfully!\")"
   ]
  },
  {
   "cell_type": "markdown",
   "metadata": {},
   "source": [
    "## 4. Descriptive Statistics for Textual Lengths"
   ]
  },
  {
   "cell_type": "code",
   "execution_count": 8,
   "metadata": {},
   "outputs": [
    {
     "name": "stdout",
     "output_type": "stream",
     "text": [
      "Descriptive Statistics for Textual Lengths:\n",
      "==================================================\n",
      "Headline Length:\n",
      "  Count: 1.4M\n",
      "  Mean: 73.12 characters\n",
      "  Std: 40.74 characters\n",
      "  Min: 3 characters\n",
      "  Max: 512 characters\n",
      "  Median: 64.00 characters\n",
      "  Q1: 47.00 characters\n",
      "  Q3: 87.00 characters\n",
      "Url Length:\n",
      "  Count: 1.4M\n",
      "  Mean: 110.50 characters\n",
      "  Std: 19.17 characters\n",
      "  Min: 33 characters\n",
      "  Max: 162 characters\n",
      "  Median: 115.00 characters\n",
      "  Q1: 94.00 characters\n",
      "  Q3: 125.00 characters\n"
     ]
    }
   ],
   "source": [
    "# Get descriptive statistics\n",
    "desc_stats = analyzer.get_descriptive_statistics()\n",
    "print(\"Descriptive Statistics for Textual Lengths:\")\n",
    "print(\"=\" * 50)\n",
    "for text_type, stats in desc_stats.items():\n",
    "    print(f\"{text_type.replace('_', ' ').title()}:\")\n",
    "    print(f\"  Count: {format_large_numbers(stats['count'])}\")\n",
    "    print(f\"  Mean: {stats['mean']:.2f} characters\")\n",
    "    print(f\"  Std: {stats['std']:.2f} characters\")\n",
    "    print(f\"  Min: {stats['min']} characters\")\n",
    "    print(f\"  Max: {stats['max']} characters\")\n",
    "    print(f\"  Median: {stats['median']:.2f} characters\")\n",
    "    print(f\"  Q1: {stats['q1']:.2f} characters\")\n",
    "    print(f\"  Q3: {stats['q3']:.2f} characters\")\n",
    "\n"
   ]
  },
  {
   "cell_type": "code",
   "execution_count": 9,
   "metadata": {},
   "outputs": [
    {
     "data": {
      "image/png": "[encoded data removed]",
      "text/plain": [
       "<Figure size 1400x600 with 2 Axes>"
      ]
     },
     "metadata": {},
     "output_type": "display_data"
    }
   ],
   "source": [
    "# Visualize headline length distribution\n",
    "analyzer.plot_headline_length_distribution(figsize=(14, 6))"
   ]
  }
 ],
 "metadata": {
  "kernelspec": {
   "display_name": ".venv",
   "language": "python",
   "name": "python3"
  },
  "language_info": {
   "codemirror_mode": {
    "name": "ipython",
    "version": 3
   },
   "file_extension": ".py",
   "mimetype": "text/x-python",
   "name": "python",
   "nbconvert_exporter": "python",
   "pygments_lexer": "ipython3",
   "version": "3.12.4"
  }
 },
 "nbformat": 4,
 "nbformat_minor": 2
}
